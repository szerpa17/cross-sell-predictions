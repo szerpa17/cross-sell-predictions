{
 "cells": [
  {
   "cell_type": "markdown",
   "metadata": {},
   "source": [
    "# Machine Learning Model"
   ]
  },
  {
   "cell_type": "code",
   "execution_count": 1,
   "metadata": {},
   "outputs": [],
   "source": [
    "import pandas as pd\n",
    "import os\n",
    "from sqlalchemy import create_engine"
   ]
  },
  {
   "cell_type": "markdown",
   "metadata": {},
   "source": [
    "### 1. Clean & Prepare Dataset"
   ]
  },
  {
   "cell_type": "code",
   "execution_count": 2,
   "metadata": {},
   "outputs": [
    {
     "output_type": "execute_result",
     "data": {
      "text/plain": [
       "       id Gender  Age  Driving_License  Region_Code  Previously_Insured  \\\n",
       "0  381110   Male   25                1         11.0                   1   \n",
       "1  381111   Male   40                1         28.0                   0   \n",
       "2  381112   Male   47                1         28.0                   0   \n",
       "3  381113   Male   24                1         27.0                   1   \n",
       "4  381114   Male   27                1         28.0                   1   \n",
       "\n",
       "  Vehicle_Age Vehicle_Damage  Annual_Premium  Policy_Sales_Channel  Vintage  \n",
       "0    < 1 Year             No         35786.0                 152.0       53  \n",
       "1    1-2 Year            Yes         33762.0                   7.0      111  \n",
       "2    1-2 Year            Yes         40050.0                 124.0      199  \n",
       "3    < 1 Year            Yes         37356.0                 152.0      187  \n",
       "4    < 1 Year             No         59097.0                 152.0      297  "
      ],
      "text/html": "<div>\n<style scoped>\n    .dataframe tbody tr th:only-of-type {\n        vertical-align: middle;\n    }\n\n    .dataframe tbody tr th {\n        vertical-align: top;\n    }\n\n    .dataframe thead th {\n        text-align: right;\n    }\n</style>\n<table border=\"1\" class=\"dataframe\">\n  <thead>\n    <tr style=\"text-align: right;\">\n      <th></th>\n      <th>id</th>\n      <th>Gender</th>\n      <th>Age</th>\n      <th>Driving_License</th>\n      <th>Region_Code</th>\n      <th>Previously_Insured</th>\n      <th>Vehicle_Age</th>\n      <th>Vehicle_Damage</th>\n      <th>Annual_Premium</th>\n      <th>Policy_Sales_Channel</th>\n      <th>Vintage</th>\n    </tr>\n  </thead>\n  <tbody>\n    <tr>\n      <th>0</th>\n      <td>381110</td>\n      <td>Male</td>\n      <td>25</td>\n      <td>1</td>\n      <td>11.0</td>\n      <td>1</td>\n      <td>&lt; 1 Year</td>\n      <td>No</td>\n      <td>35786.0</td>\n      <td>152.0</td>\n      <td>53</td>\n    </tr>\n    <tr>\n      <th>1</th>\n      <td>381111</td>\n      <td>Male</td>\n      <td>40</td>\n      <td>1</td>\n      <td>28.0</td>\n      <td>0</td>\n      <td>1-2 Year</td>\n      <td>Yes</td>\n      <td>33762.0</td>\n      <td>7.0</td>\n      <td>111</td>\n    </tr>\n    <tr>\n      <th>2</th>\n      <td>381112</td>\n      <td>Male</td>\n      <td>47</td>\n      <td>1</td>\n      <td>28.0</td>\n      <td>0</td>\n      <td>1-2 Year</td>\n      <td>Yes</td>\n      <td>40050.0</td>\n      <td>124.0</td>\n      <td>199</td>\n    </tr>\n    <tr>\n      <th>3</th>\n      <td>381113</td>\n      <td>Male</td>\n      <td>24</td>\n      <td>1</td>\n      <td>27.0</td>\n      <td>1</td>\n      <td>&lt; 1 Year</td>\n      <td>Yes</td>\n      <td>37356.0</td>\n      <td>152.0</td>\n      <td>187</td>\n    </tr>\n    <tr>\n      <th>4</th>\n      <td>381114</td>\n      <td>Male</td>\n      <td>27</td>\n      <td>1</td>\n      <td>28.0</td>\n      <td>1</td>\n      <td>&lt; 1 Year</td>\n      <td>No</td>\n      <td>59097.0</td>\n      <td>152.0</td>\n      <td>297</td>\n    </tr>\n  </tbody>\n</table>\n</div>"
     },
     "metadata": {},
     "execution_count": 2
    }
   ],
   "source": [
    "# Read csv into dataframe\n",
    "df = pd.read_csv(os.path.join(\"Resources\", \"test.csv\"))\n",
    "df.head()"
   ]
  },
  {
   "cell_type": "code",
   "execution_count": 3,
   "metadata": {
    "collapsed": true,
    "jupyter": {
     "outputs_hidden": true
    }
   },
   "outputs": [
    {
     "output_type": "stream",
     "name": "stdout",
     "text": [
      " Column id: Unique Value(s): [False]\n Column Gender: Unique Value(s): [False]\n Column Age: Unique Value(s): [False]\n Column Driving_License: Unique Value(s): [False]\n Column Region_Code: Unique Value(s): [False]\n Column Previously_Insured: Unique Value(s): [False]\n Column Vehicle_Age: Unique Value(s): [False]\n Column Vehicle_Damage: Unique Value(s): [False]\n Column Annual_Premium: Unique Value(s): [False]\n Column Policy_Sales_Channel: Unique Value(s): [False]\n Column Vintage: Unique Value(s): [False]\n"
     ]
    }
   ],
   "source": [
    "# Check for null values\n",
    "# Results show all columns have no null values\n",
    "for x in df:\n",
    "    print(f' Column {x}: Unique Value(s): {pd.isna(df[x]).unique()}') "
   ]
  },
  {
   "cell_type": "code",
   "execution_count": 4,
   "metadata": {},
   "outputs": [
    {
     "output_type": "execute_result",
     "data": {
      "text/plain": [
       "id                        int64\n",
       "Gender                   object\n",
       "Age                       int64\n",
       "Driving_License           int64\n",
       "Region_Code             float64\n",
       "Previously_Insured        int64\n",
       "Vehicle_Age              object\n",
       "Vehicle_Damage           object\n",
       "Annual_Premium          float64\n",
       "Policy_Sales_Channel    float64\n",
       "Vintage                   int64\n",
       "dtype: object"
      ]
     },
     "metadata": {},
     "execution_count": 4
    }
   ],
   "source": [
    "# Check data types\n",
    "df.dtypes"
   ]
  },
  {
   "cell_type": "code",
   "execution_count": 5,
   "metadata": {},
   "outputs": [],
   "source": [
    "# Convert objects in Gender column into numeric values\n",
    "df['Gender'] = df['Gender'].replace('Male', 1)\n",
    "df['Gender'] = df['Gender'].replace('Female', 0)"
   ]
  },
  {
   "cell_type": "code",
   "execution_count": 6,
   "metadata": {},
   "outputs": [],
   "source": [
    "# Convert objects in Vehicle Age column into numeric values\n",
    "df['Vehicle_Age'] = df['Vehicle_Age'].replace('< 1 Year', 1)\n",
    "df['Vehicle_Age'] = df['Vehicle_Age'].replace('1-2 Year', 2)\n",
    "df['Vehicle_Age'] = df['Vehicle_Age'].replace('> 2 Years', 3)"
   ]
  },
  {
   "cell_type": "code",
   "execution_count": 7,
   "metadata": {},
   "outputs": [],
   "source": [
    "# Convert objects in Vehicle Damage column into numeric values\n",
    "df['Vehicle_Damage'] = df['Vehicle_Damage'].replace('Yes', 1)\n",
    "df['Vehicle_Damage'] = df['Vehicle_Damage'].replace('No', 0)"
   ]
  },
  {
   "cell_type": "code",
   "execution_count": 8,
   "metadata": {},
   "outputs": [
    {
     "output_type": "execute_result",
     "data": {
      "text/plain": [
       "id                        int64\n",
       "Gender                    int64\n",
       "Age                       int64\n",
       "Driving_License           int64\n",
       "Region_Code             float64\n",
       "Previously_Insured        int64\n",
       "Vehicle_Age               int64\n",
       "Vehicle_Damage            int64\n",
       "Annual_Premium          float64\n",
       "Policy_Sales_Channel    float64\n",
       "Vintage                   int64\n",
       "dtype: object"
      ]
     },
     "metadata": {},
     "execution_count": 8
    }
   ],
   "source": [
    "# Check data types again to ensure all objects are converted\n",
    "df.dtypes"
   ]
  },
  {
   "cell_type": "code",
   "execution_count": 9,
   "metadata": {},
   "outputs": [
    {
     "output_type": "execute_result",
     "data": {
      "text/plain": [
       "       id  Gender  Age  Driving_License  Region_Code  Previously_Insured  \\\n",
       "0  381110       1   25                1         11.0                   1   \n",
       "1  381111       1   40                1         28.0                   0   \n",
       "2  381112       1   47                1         28.0                   0   \n",
       "3  381113       1   24                1         27.0                   1   \n",
       "4  381114       1   27                1         28.0                   1   \n",
       "\n",
       "   Vehicle_Age  Vehicle_Damage  Annual_Premium  Policy_Sales_Channel  Vintage  \n",
       "0            1               0         35786.0                 152.0       53  \n",
       "1            2               1         33762.0                   7.0      111  \n",
       "2            2               1         40050.0                 124.0      199  \n",
       "3            1               1         37356.0                 152.0      187  \n",
       "4            1               0         59097.0                 152.0      297  "
      ],
      "text/html": "<div>\n<style scoped>\n    .dataframe tbody tr th:only-of-type {\n        vertical-align: middle;\n    }\n\n    .dataframe tbody tr th {\n        vertical-align: top;\n    }\n\n    .dataframe thead th {\n        text-align: right;\n    }\n</style>\n<table border=\"1\" class=\"dataframe\">\n  <thead>\n    <tr style=\"text-align: right;\">\n      <th></th>\n      <th>id</th>\n      <th>Gender</th>\n      <th>Age</th>\n      <th>Driving_License</th>\n      <th>Region_Code</th>\n      <th>Previously_Insured</th>\n      <th>Vehicle_Age</th>\n      <th>Vehicle_Damage</th>\n      <th>Annual_Premium</th>\n      <th>Policy_Sales_Channel</th>\n      <th>Vintage</th>\n    </tr>\n  </thead>\n  <tbody>\n    <tr>\n      <th>0</th>\n      <td>381110</td>\n      <td>1</td>\n      <td>25</td>\n      <td>1</td>\n      <td>11.0</td>\n      <td>1</td>\n      <td>1</td>\n      <td>0</td>\n      <td>35786.0</td>\n      <td>152.0</td>\n      <td>53</td>\n    </tr>\n    <tr>\n      <th>1</th>\n      <td>381111</td>\n      <td>1</td>\n      <td>40</td>\n      <td>1</td>\n      <td>28.0</td>\n      <td>0</td>\n      <td>2</td>\n      <td>1</td>\n      <td>33762.0</td>\n      <td>7.0</td>\n      <td>111</td>\n    </tr>\n    <tr>\n      <th>2</th>\n      <td>381112</td>\n      <td>1</td>\n      <td>47</td>\n      <td>1</td>\n      <td>28.0</td>\n      <td>0</td>\n      <td>2</td>\n      <td>1</td>\n      <td>40050.0</td>\n      <td>124.0</td>\n      <td>199</td>\n    </tr>\n    <tr>\n      <th>3</th>\n      <td>381113</td>\n      <td>1</td>\n      <td>24</td>\n      <td>1</td>\n      <td>27.0</td>\n      <td>1</td>\n      <td>1</td>\n      <td>1</td>\n      <td>37356.0</td>\n      <td>152.0</td>\n      <td>187</td>\n    </tr>\n    <tr>\n      <th>4</th>\n      <td>381114</td>\n      <td>1</td>\n      <td>27</td>\n      <td>1</td>\n      <td>28.0</td>\n      <td>1</td>\n      <td>1</td>\n      <td>0</td>\n      <td>59097.0</td>\n      <td>152.0</td>\n      <td>297</td>\n    </tr>\n  </tbody>\n</table>\n</div>"
     },
     "metadata": {},
     "execution_count": 9
    }
   ],
   "source": [
    "# Viewed df\n",
    "df.head()"
   ]
  },
  {
   "cell_type": "code",
   "execution_count": 10,
   "metadata": {},
   "outputs": [
    {
     "output_type": "execute_result",
     "data": {
      "text/plain": [
       "            id  gender  age  driving_license  region_code  previously_insured  \\\n",
       "0       381110       1   25                1         11.0                   1   \n",
       "1       381111       1   40                1         28.0                   0   \n",
       "2       381112       1   47                1         28.0                   0   \n",
       "3       381113       1   24                1         27.0                   1   \n",
       "4       381114       1   27                1         28.0                   1   \n",
       "...        ...     ...  ...              ...          ...                 ...   \n",
       "127032  508142       0   26                1         37.0                   1   \n",
       "127033  508143       0   38                1         28.0                   0   \n",
       "127034  508144       1   21                1         46.0                   1   \n",
       "127035  508145       1   71                1         28.0                   1   \n",
       "127036  508146       1   41                1         29.0                   1   \n",
       "\n",
       "        vehicle_age  vehicle_damage  annual_premium  policy_sales_channel  \\\n",
       "0                 1               0         35786.0                 152.0   \n",
       "1                 2               1         33762.0                   7.0   \n",
       "2                 2               1         40050.0                 124.0   \n",
       "3                 1               1         37356.0                 152.0   \n",
       "4                 1               0         59097.0                 152.0   \n",
       "...             ...             ...             ...                   ...   \n",
       "127032            1               0         30867.0                 152.0   \n",
       "127033            2               1         28700.0                 122.0   \n",
       "127034            1               0         29802.0                 152.0   \n",
       "127035            2               0         62875.0                  26.0   \n",
       "127036            2               0         27927.0                 124.0   \n",
       "\n",
       "        vintage  \n",
       "0            53  \n",
       "1           111  \n",
       "2           199  \n",
       "3           187  \n",
       "4           297  \n",
       "...         ...  \n",
       "127032       56  \n",
       "127033      165  \n",
       "127034       74  \n",
       "127035      265  \n",
       "127036      231  \n",
       "\n",
       "[127037 rows x 11 columns]"
      ],
      "text/html": "<div>\n<style scoped>\n    .dataframe tbody tr th:only-of-type {\n        vertical-align: middle;\n    }\n\n    .dataframe tbody tr th {\n        vertical-align: top;\n    }\n\n    .dataframe thead th {\n        text-align: right;\n    }\n</style>\n<table border=\"1\" class=\"dataframe\">\n  <thead>\n    <tr style=\"text-align: right;\">\n      <th></th>\n      <th>id</th>\n      <th>gender</th>\n      <th>age</th>\n      <th>driving_license</th>\n      <th>region_code</th>\n      <th>previously_insured</th>\n      <th>vehicle_age</th>\n      <th>vehicle_damage</th>\n      <th>annual_premium</th>\n      <th>policy_sales_channel</th>\n      <th>vintage</th>\n    </tr>\n  </thead>\n  <tbody>\n    <tr>\n      <th>0</th>\n      <td>381110</td>\n      <td>1</td>\n      <td>25</td>\n      <td>1</td>\n      <td>11.0</td>\n      <td>1</td>\n      <td>1</td>\n      <td>0</td>\n      <td>35786.0</td>\n      <td>152.0</td>\n      <td>53</td>\n    </tr>\n    <tr>\n      <th>1</th>\n      <td>381111</td>\n      <td>1</td>\n      <td>40</td>\n      <td>1</td>\n      <td>28.0</td>\n      <td>0</td>\n      <td>2</td>\n      <td>1</td>\n      <td>33762.0</td>\n      <td>7.0</td>\n      <td>111</td>\n    </tr>\n    <tr>\n      <th>2</th>\n      <td>381112</td>\n      <td>1</td>\n      <td>47</td>\n      <td>1</td>\n      <td>28.0</td>\n      <td>0</td>\n      <td>2</td>\n      <td>1</td>\n      <td>40050.0</td>\n      <td>124.0</td>\n      <td>199</td>\n    </tr>\n    <tr>\n      <th>3</th>\n      <td>381113</td>\n      <td>1</td>\n      <td>24</td>\n      <td>1</td>\n      <td>27.0</td>\n      <td>1</td>\n      <td>1</td>\n      <td>1</td>\n      <td>37356.0</td>\n      <td>152.0</td>\n      <td>187</td>\n    </tr>\n    <tr>\n      <th>4</th>\n      <td>381114</td>\n      <td>1</td>\n      <td>27</td>\n      <td>1</td>\n      <td>28.0</td>\n      <td>1</td>\n      <td>1</td>\n      <td>0</td>\n      <td>59097.0</td>\n      <td>152.0</td>\n      <td>297</td>\n    </tr>\n    <tr>\n      <th>...</th>\n      <td>...</td>\n      <td>...</td>\n      <td>...</td>\n      <td>...</td>\n      <td>...</td>\n      <td>...</td>\n      <td>...</td>\n      <td>...</td>\n      <td>...</td>\n      <td>...</td>\n      <td>...</td>\n    </tr>\n    <tr>\n      <th>127032</th>\n      <td>508142</td>\n      <td>0</td>\n      <td>26</td>\n      <td>1</td>\n      <td>37.0</td>\n      <td>1</td>\n      <td>1</td>\n      <td>0</td>\n      <td>30867.0</td>\n      <td>152.0</td>\n      <td>56</td>\n    </tr>\n    <tr>\n      <th>127033</th>\n      <td>508143</td>\n      <td>0</td>\n      <td>38</td>\n      <td>1</td>\n      <td>28.0</td>\n      <td>0</td>\n      <td>2</td>\n      <td>1</td>\n      <td>28700.0</td>\n      <td>122.0</td>\n      <td>165</td>\n    </tr>\n    <tr>\n      <th>127034</th>\n      <td>508144</td>\n      <td>1</td>\n      <td>21</td>\n      <td>1</td>\n      <td>46.0</td>\n      <td>1</td>\n      <td>1</td>\n      <td>0</td>\n      <td>29802.0</td>\n      <td>152.0</td>\n      <td>74</td>\n    </tr>\n    <tr>\n      <th>127035</th>\n      <td>508145</td>\n      <td>1</td>\n      <td>71</td>\n      <td>1</td>\n      <td>28.0</td>\n      <td>1</td>\n      <td>2</td>\n      <td>0</td>\n      <td>62875.0</td>\n      <td>26.0</td>\n      <td>265</td>\n    </tr>\n    <tr>\n      <th>127036</th>\n      <td>508146</td>\n      <td>1</td>\n      <td>41</td>\n      <td>1</td>\n      <td>29.0</td>\n      <td>1</td>\n      <td>2</td>\n      <td>0</td>\n      <td>27927.0</td>\n      <td>124.0</td>\n      <td>231</td>\n    </tr>\n  </tbody>\n</table>\n<p>127037 rows × 11 columns</p>\n</div>"
     },
     "metadata": {},
     "execution_count": 10
    }
   ],
   "source": [
    "# Rename column headers using for loop\n",
    "for x in df:\n",
    "    df = df.rename(columns={x : x.lower()})\n",
    "df"
   ]
  },
  {
   "cell_type": "markdown",
   "metadata": {},
   "source": [
    "### 2. Export SQLITE"
   ]
  },
  {
   "cell_type": "code",
   "execution_count": 11,
   "metadata": {},
   "outputs": [],
   "source": [
    "# Sql lite file name\n",
    "sql_lite = \"sqlite:///insurance_data.sqlite\""
   ]
  },
  {
   "cell_type": "code",
   "execution_count": 12,
   "metadata": {},
   "outputs": [],
   "source": [
    "#  Create engine\n",
    "engine = create_engine(sql_lite)"
   ]
  },
  {
   "cell_type": "code",
   "execution_count": 13,
   "metadata": {},
   "outputs": [],
   "source": [
    "df.to_sql(name=\"test_data\", con=engine, if_exists=\"replace\", index=False)"
   ]
  },
  {
   "cell_type": "code",
   "execution_count": 14,
   "metadata": {},
   "outputs": [
    {
     "output_type": "execute_result",
     "data": {
      "text/plain": [
       "['test_data']"
      ]
     },
     "metadata": {},
     "execution_count": 14
    }
   ],
   "source": [
    "engine.table_names()"
   ]
  },
  {
   "cell_type": "code",
   "execution_count": 15,
   "metadata": {},
   "outputs": [
    {
     "output_type": "execute_result",
     "data": {
      "text/plain": [
       "            id  gender  age  driving_license  region_code  previously_insured  \\\n",
       "0       381110       1   25                1         11.0                   1   \n",
       "1       381111       1   40                1         28.0                   0   \n",
       "2       381112       1   47                1         28.0                   0   \n",
       "3       381113       1   24                1         27.0                   1   \n",
       "4       381114       1   27                1         28.0                   1   \n",
       "...        ...     ...  ...              ...          ...                 ...   \n",
       "127032  508142       0   26                1         37.0                   1   \n",
       "127033  508143       0   38                1         28.0                   0   \n",
       "127034  508144       1   21                1         46.0                   1   \n",
       "127035  508145       1   71                1         28.0                   1   \n",
       "127036  508146       1   41                1         29.0                   1   \n",
       "\n",
       "        vehicle_age  vehicle_damage  annual_premium  policy_sales_channel  \\\n",
       "0                 1               0         35786.0                 152.0   \n",
       "1                 2               1         33762.0                   7.0   \n",
       "2                 2               1         40050.0                 124.0   \n",
       "3                 1               1         37356.0                 152.0   \n",
       "4                 1               0         59097.0                 152.0   \n",
       "...             ...             ...             ...                   ...   \n",
       "127032            1               0         30867.0                 152.0   \n",
       "127033            2               1         28700.0                 122.0   \n",
       "127034            1               0         29802.0                 152.0   \n",
       "127035            2               0         62875.0                  26.0   \n",
       "127036            2               0         27927.0                 124.0   \n",
       "\n",
       "        vintage  \n",
       "0            53  \n",
       "1           111  \n",
       "2           199  \n",
       "3           187  \n",
       "4           297  \n",
       "...         ...  \n",
       "127032       56  \n",
       "127033      165  \n",
       "127034       74  \n",
       "127035      265  \n",
       "127036      231  \n",
       "\n",
       "[127037 rows x 11 columns]"
      ],
      "text/html": "<div>\n<style scoped>\n    .dataframe tbody tr th:only-of-type {\n        vertical-align: middle;\n    }\n\n    .dataframe tbody tr th {\n        vertical-align: top;\n    }\n\n    .dataframe thead th {\n        text-align: right;\n    }\n</style>\n<table border=\"1\" class=\"dataframe\">\n  <thead>\n    <tr style=\"text-align: right;\">\n      <th></th>\n      <th>id</th>\n      <th>gender</th>\n      <th>age</th>\n      <th>driving_license</th>\n      <th>region_code</th>\n      <th>previously_insured</th>\n      <th>vehicle_age</th>\n      <th>vehicle_damage</th>\n      <th>annual_premium</th>\n      <th>policy_sales_channel</th>\n      <th>vintage</th>\n    </tr>\n  </thead>\n  <tbody>\n    <tr>\n      <th>0</th>\n      <td>381110</td>\n      <td>1</td>\n      <td>25</td>\n      <td>1</td>\n      <td>11.0</td>\n      <td>1</td>\n      <td>1</td>\n      <td>0</td>\n      <td>35786.0</td>\n      <td>152.0</td>\n      <td>53</td>\n    </tr>\n    <tr>\n      <th>1</th>\n      <td>381111</td>\n      <td>1</td>\n      <td>40</td>\n      <td>1</td>\n      <td>28.0</td>\n      <td>0</td>\n      <td>2</td>\n      <td>1</td>\n      <td>33762.0</td>\n      <td>7.0</td>\n      <td>111</td>\n    </tr>\n    <tr>\n      <th>2</th>\n      <td>381112</td>\n      <td>1</td>\n      <td>47</td>\n      <td>1</td>\n      <td>28.0</td>\n      <td>0</td>\n      <td>2</td>\n      <td>1</td>\n      <td>40050.0</td>\n      <td>124.0</td>\n      <td>199</td>\n    </tr>\n    <tr>\n      <th>3</th>\n      <td>381113</td>\n      <td>1</td>\n      <td>24</td>\n      <td>1</td>\n      <td>27.0</td>\n      <td>1</td>\n      <td>1</td>\n      <td>1</td>\n      <td>37356.0</td>\n      <td>152.0</td>\n      <td>187</td>\n    </tr>\n    <tr>\n      <th>4</th>\n      <td>381114</td>\n      <td>1</td>\n      <td>27</td>\n      <td>1</td>\n      <td>28.0</td>\n      <td>1</td>\n      <td>1</td>\n      <td>0</td>\n      <td>59097.0</td>\n      <td>152.0</td>\n      <td>297</td>\n    </tr>\n    <tr>\n      <th>...</th>\n      <td>...</td>\n      <td>...</td>\n      <td>...</td>\n      <td>...</td>\n      <td>...</td>\n      <td>...</td>\n      <td>...</td>\n      <td>...</td>\n      <td>...</td>\n      <td>...</td>\n      <td>...</td>\n    </tr>\n    <tr>\n      <th>127032</th>\n      <td>508142</td>\n      <td>0</td>\n      <td>26</td>\n      <td>1</td>\n      <td>37.0</td>\n      <td>1</td>\n      <td>1</td>\n      <td>0</td>\n      <td>30867.0</td>\n      <td>152.0</td>\n      <td>56</td>\n    </tr>\n    <tr>\n      <th>127033</th>\n      <td>508143</td>\n      <td>0</td>\n      <td>38</td>\n      <td>1</td>\n      <td>28.0</td>\n      <td>0</td>\n      <td>2</td>\n      <td>1</td>\n      <td>28700.0</td>\n      <td>122.0</td>\n      <td>165</td>\n    </tr>\n    <tr>\n      <th>127034</th>\n      <td>508144</td>\n      <td>1</td>\n      <td>21</td>\n      <td>1</td>\n      <td>46.0</td>\n      <td>1</td>\n      <td>1</td>\n      <td>0</td>\n      <td>29802.0</td>\n      <td>152.0</td>\n      <td>74</td>\n    </tr>\n    <tr>\n      <th>127035</th>\n      <td>508145</td>\n      <td>1</td>\n      <td>71</td>\n      <td>1</td>\n      <td>28.0</td>\n      <td>1</td>\n      <td>2</td>\n      <td>0</td>\n      <td>62875.0</td>\n      <td>26.0</td>\n      <td>265</td>\n    </tr>\n    <tr>\n      <th>127036</th>\n      <td>508146</td>\n      <td>1</td>\n      <td>41</td>\n      <td>1</td>\n      <td>29.0</td>\n      <td>1</td>\n      <td>2</td>\n      <td>0</td>\n      <td>27927.0</td>\n      <td>124.0</td>\n      <td>231</td>\n    </tr>\n  </tbody>\n</table>\n<p>127037 rows × 11 columns</p>\n</div>"
     },
     "metadata": {},
     "execution_count": 15
    }
   ],
   "source": [
    "# Testing\n",
    "df = pd.read_sql_query('SELECT * FROM test_data', con=engine)\n",
    "df"
   ]
  },
  {
   "cell_type": "code",
   "execution_count": 17,
   "metadata": {},
   "outputs": [
    {
     "output_type": "error",
     "ename": "AttributeError",
     "evalue": "'NoneType' object has no attribute 'dispose'",
     "traceback": [
      "\u001b[1;31m---------------------------------------------------------------------------\u001b[0m",
      "\u001b[1;31mAttributeError\u001b[0m                            Traceback (most recent call last)",
      "\u001b[1;32m<ipython-input-17-b3d7e0859bb1>\u001b[0m in \u001b[0;36m<module>\u001b[1;34m\u001b[0m\n\u001b[1;32m----> 1\u001b[1;33m \u001b[0mengine\u001b[0m \u001b[1;33m=\u001b[0m \u001b[0mengine\u001b[0m\u001b[1;33m.\u001b[0m\u001b[0mdispose\u001b[0m\u001b[1;33m(\u001b[0m\u001b[1;33m)\u001b[0m\u001b[1;33m\u001b[0m\u001b[1;33m\u001b[0m\u001b[0m\n\u001b[0m",
      "\u001b[1;31mAttributeError\u001b[0m: 'NoneType' object has no attribute 'dispose'"
     ]
    }
   ],
   "source": [
    "\n",
    "engine = engine.dispose()"
   ]
  },
  {
   "cell_type": "code",
   "execution_count": null,
   "metadata": {},
   "outputs": [],
   "source": []
  }
 ],
 "metadata": {
  "kernelspec": {
   "display_name": "Python 3",
   "language": "python",
   "name": "python3"
  },
  "language_info": {
   "codemirror_mode": {
    "name": "ipython",
    "version": 3
   },
   "file_extension": ".py",
   "mimetype": "text/x-python",
   "name": "python",
   "nbconvert_exporter": "python",
   "pygments_lexer": "ipython3",
   "version": "3.7.6-final"
  }
 },
 "nbformat": 4,
 "nbformat_minor": 4
}